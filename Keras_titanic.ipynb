{
  "nbformat": 4,
  "nbformat_minor": 0,
  "metadata": {
    "colab": {
      "name": "Keras_titanic.ipynb",
      "provenance": [],
      "authorship_tag": "ABX9TyNWXezXQilutSeWcBtP9psP",
      "include_colab_link": true
    },
    "kernelspec": {
      "name": "python3",
      "display_name": "Python 3"
    },
    "accelerator": "GPU"
  },
  "cells": [
    {
      "cell_type": "markdown",
      "metadata": {
        "id": "view-in-github",
        "colab_type": "text"
      },
      "source": [
        "<a href=\"https://colab.research.google.com/github/theSLWayne/titanic_model/blob/dev/Keras_titanic.ipynb\" target=\"_parent\"><img src=\"https://colab.research.google.com/assets/colab-badge.svg\" alt=\"Open In Colab\"/></a>"
      ]
    },
    {
      "cell_type": "code",
      "metadata": {
        "id": "G3_p1nFIDx7m"
      },
      "source": [
        "import warnings\n",
        "warnings.filterwarnings('ignore')"
      ],
      "execution_count": null,
      "outputs": []
    },
    {
      "cell_type": "code",
      "metadata": {
        "id": "WtuTqoYbrLY5"
      },
      "source": [
        "import matplotlib.pyplot as plt\n",
        "import numpy as np\n",
        "import pandas as pd\n",
        "\n",
        "from sklearn.model_selection import train_test_split\n",
        "from sklearn.preprocessing import MinMaxScaler\n",
        "\n",
        "import tensorflow as tf"
      ],
      "execution_count": null,
      "outputs": []
    },
    {
      "cell_type": "code",
      "metadata": {
        "id": "nQZDDEGNriI6"
      },
      "source": [
        "download_required = True\n",
        "\n",
        "if download_required:\n",
        "  address = 'https://raw.githubusercontent.com/MichaelAllen1966/1804_python_healthcare/master/titanic/data/processed_data.csv'\n",
        "\n",
        "  data  = pd.read_csv(address)"
      ],
      "execution_count": null,
      "outputs": []
    },
    {
      "cell_type": "code",
      "metadata": {
        "colab": {
          "base_uri": "https://localhost:8080/",
          "height": 226
        },
        "id": "t3AhrXk2JgaK",
        "outputId": "fe2e2cbb-dbf7-4ce5-b00c-85d7c007fc22"
      },
      "source": [
        "data.head()"
      ],
      "execution_count": null,
      "outputs": [
        {
          "output_type": "execute_result",
          "data": {
            "text/html": [
              "<div>\n",
              "<style scoped>\n",
              "    .dataframe tbody tr th:only-of-type {\n",
              "        vertical-align: middle;\n",
              "    }\n",
              "\n",
              "    .dataframe tbody tr th {\n",
              "        vertical-align: top;\n",
              "    }\n",
              "\n",
              "    .dataframe thead th {\n",
              "        text-align: right;\n",
              "    }\n",
              "</style>\n",
              "<table border=\"1\" class=\"dataframe\">\n",
              "  <thead>\n",
              "    <tr style=\"text-align: right;\">\n",
              "      <th></th>\n",
              "      <th>PassengerId</th>\n",
              "      <th>Survived</th>\n",
              "      <th>Pclass</th>\n",
              "      <th>Age</th>\n",
              "      <th>SibSp</th>\n",
              "      <th>Parch</th>\n",
              "      <th>Fare</th>\n",
              "      <th>AgeImputed</th>\n",
              "      <th>EmbarkedImputed</th>\n",
              "      <th>CabinLetterImputed</th>\n",
              "      <th>CabinNumber</th>\n",
              "      <th>CabinNumberImputed</th>\n",
              "      <th>male</th>\n",
              "      <th>Embarked_C</th>\n",
              "      <th>Embarked_Q</th>\n",
              "      <th>Embarked_S</th>\n",
              "      <th>Embarked_missing</th>\n",
              "      <th>CabinLetter_A</th>\n",
              "      <th>CabinLetter_B</th>\n",
              "      <th>CabinLetter_C</th>\n",
              "      <th>CabinLetter_D</th>\n",
              "      <th>CabinLetter_E</th>\n",
              "      <th>CabinLetter_F</th>\n",
              "      <th>CabinLetter_G</th>\n",
              "      <th>CabinLetter_T</th>\n",
              "      <th>CabinLetter_missing</th>\n",
              "    </tr>\n",
              "  </thead>\n",
              "  <tbody>\n",
              "    <tr>\n",
              "      <th>0</th>\n",
              "      <td>1.0</td>\n",
              "      <td>0.0</td>\n",
              "      <td>3.0</td>\n",
              "      <td>22.0</td>\n",
              "      <td>1.0</td>\n",
              "      <td>0.0</td>\n",
              "      <td>7.2500</td>\n",
              "      <td>0.0</td>\n",
              "      <td>0.0</td>\n",
              "      <td>1.0</td>\n",
              "      <td>0.0</td>\n",
              "      <td>1.0</td>\n",
              "      <td>1.0</td>\n",
              "      <td>0.0</td>\n",
              "      <td>0.0</td>\n",
              "      <td>1.0</td>\n",
              "      <td>0.0</td>\n",
              "      <td>0.0</td>\n",
              "      <td>0.0</td>\n",
              "      <td>0.0</td>\n",
              "      <td>0.0</td>\n",
              "      <td>0.0</td>\n",
              "      <td>0.0</td>\n",
              "      <td>0.0</td>\n",
              "      <td>0.0</td>\n",
              "      <td>1.0</td>\n",
              "    </tr>\n",
              "    <tr>\n",
              "      <th>1</th>\n",
              "      <td>2.0</td>\n",
              "      <td>1.0</td>\n",
              "      <td>1.0</td>\n",
              "      <td>38.0</td>\n",
              "      <td>1.0</td>\n",
              "      <td>0.0</td>\n",
              "      <td>71.2833</td>\n",
              "      <td>0.0</td>\n",
              "      <td>0.0</td>\n",
              "      <td>0.0</td>\n",
              "      <td>85.0</td>\n",
              "      <td>0.0</td>\n",
              "      <td>0.0</td>\n",
              "      <td>1.0</td>\n",
              "      <td>0.0</td>\n",
              "      <td>0.0</td>\n",
              "      <td>0.0</td>\n",
              "      <td>0.0</td>\n",
              "      <td>0.0</td>\n",
              "      <td>1.0</td>\n",
              "      <td>0.0</td>\n",
              "      <td>0.0</td>\n",
              "      <td>0.0</td>\n",
              "      <td>0.0</td>\n",
              "      <td>0.0</td>\n",
              "      <td>0.0</td>\n",
              "    </tr>\n",
              "    <tr>\n",
              "      <th>2</th>\n",
              "      <td>3.0</td>\n",
              "      <td>1.0</td>\n",
              "      <td>3.0</td>\n",
              "      <td>26.0</td>\n",
              "      <td>0.0</td>\n",
              "      <td>0.0</td>\n",
              "      <td>7.9250</td>\n",
              "      <td>0.0</td>\n",
              "      <td>0.0</td>\n",
              "      <td>1.0</td>\n",
              "      <td>0.0</td>\n",
              "      <td>1.0</td>\n",
              "      <td>0.0</td>\n",
              "      <td>0.0</td>\n",
              "      <td>0.0</td>\n",
              "      <td>1.0</td>\n",
              "      <td>0.0</td>\n",
              "      <td>0.0</td>\n",
              "      <td>0.0</td>\n",
              "      <td>0.0</td>\n",
              "      <td>0.0</td>\n",
              "      <td>0.0</td>\n",
              "      <td>0.0</td>\n",
              "      <td>0.0</td>\n",
              "      <td>0.0</td>\n",
              "      <td>1.0</td>\n",
              "    </tr>\n",
              "    <tr>\n",
              "      <th>3</th>\n",
              "      <td>4.0</td>\n",
              "      <td>1.0</td>\n",
              "      <td>1.0</td>\n",
              "      <td>35.0</td>\n",
              "      <td>1.0</td>\n",
              "      <td>0.0</td>\n",
              "      <td>53.1000</td>\n",
              "      <td>0.0</td>\n",
              "      <td>0.0</td>\n",
              "      <td>0.0</td>\n",
              "      <td>123.0</td>\n",
              "      <td>0.0</td>\n",
              "      <td>0.0</td>\n",
              "      <td>0.0</td>\n",
              "      <td>0.0</td>\n",
              "      <td>1.0</td>\n",
              "      <td>0.0</td>\n",
              "      <td>0.0</td>\n",
              "      <td>0.0</td>\n",
              "      <td>1.0</td>\n",
              "      <td>0.0</td>\n",
              "      <td>0.0</td>\n",
              "      <td>0.0</td>\n",
              "      <td>0.0</td>\n",
              "      <td>0.0</td>\n",
              "      <td>0.0</td>\n",
              "    </tr>\n",
              "    <tr>\n",
              "      <th>4</th>\n",
              "      <td>5.0</td>\n",
              "      <td>0.0</td>\n",
              "      <td>3.0</td>\n",
              "      <td>35.0</td>\n",
              "      <td>0.0</td>\n",
              "      <td>0.0</td>\n",
              "      <td>8.0500</td>\n",
              "      <td>0.0</td>\n",
              "      <td>0.0</td>\n",
              "      <td>1.0</td>\n",
              "      <td>0.0</td>\n",
              "      <td>1.0</td>\n",
              "      <td>1.0</td>\n",
              "      <td>0.0</td>\n",
              "      <td>0.0</td>\n",
              "      <td>1.0</td>\n",
              "      <td>0.0</td>\n",
              "      <td>0.0</td>\n",
              "      <td>0.0</td>\n",
              "      <td>0.0</td>\n",
              "      <td>0.0</td>\n",
              "      <td>0.0</td>\n",
              "      <td>0.0</td>\n",
              "      <td>0.0</td>\n",
              "      <td>0.0</td>\n",
              "      <td>1.0</td>\n",
              "    </tr>\n",
              "  </tbody>\n",
              "</table>\n",
              "</div>"
            ],
            "text/plain": [
              "   PassengerId  Survived  ...  CabinLetter_T  CabinLetter_missing\n",
              "0          1.0       0.0  ...            0.0                  1.0\n",
              "1          2.0       1.0  ...            0.0                  0.0\n",
              "2          3.0       1.0  ...            0.0                  1.0\n",
              "3          4.0       1.0  ...            0.0                  0.0\n",
              "4          5.0       0.0  ...            0.0                  1.0\n",
              "\n",
              "[5 rows x 26 columns]"
            ]
          },
          "metadata": {
            "tags": []
          },
          "execution_count": 4
        }
      ]
    },
    {
      "cell_type": "code",
      "metadata": {
        "id": "lTwdUFfYJja7"
      },
      "source": [
        "def scale_data(X_train, X_test):\n",
        "  sc = MinMaxScaler()\n",
        "\n",
        "  sc.fit(X_train)\n",
        "\n",
        "  train_sc = sc.transform(X_train)\n",
        "  test_sc = sc.transform(X_test)\n",
        "\n",
        "  return train_sc, test_sc"
      ],
      "execution_count": null,
      "outputs": []
    },
    {
      "cell_type": "code",
      "metadata": {
        "id": "jcQVr5gSKXvK"
      },
      "source": [
        "data = data.astype(float)\n",
        "\n",
        "data.drop('PassengerId', axis = 1, inplace = True)\n",
        "X = data.drop('Survived', axis = 1)\n",
        "y = data['Survived']"
      ],
      "execution_count": null,
      "outputs": []
    },
    {
      "cell_type": "code",
      "metadata": {
        "id": "-0JwY3HzM5Nb"
      },
      "source": [
        "def make_net(number_features, hidden_layers = 3, hidden_layer_neurons = 128, dropuot = 0.0, learning_rate = 0.003):\n",
        "\n",
        "  # Clear Tensorflow session\n",
        "  tf.keras.backend.clear_session()\n",
        "\n",
        "  # Set up neural net\n",
        "  model = tf.keras.Sequential()\n",
        "\n",
        "  # Add hidden layers \n",
        "  for i in range(hidden_layers):\n",
        "    model.add(tf.keras.layers.Dense(hidden_layer_neurons, input_dim = number_features, activation = 'relu'))\n",
        "    model.add(tf.keras.layers.Dropout(dropuot))\n",
        "\n",
        "  # Add final sigmoid activation output\n",
        "  model.add(tf.keras.layers.Dense(1, activation = 'sigmoid'))\n",
        "\n",
        "  # Compiling model\n",
        "  model.compile(loss = tf.keras.losses.BinaryCrossentropy(), optimizer = tf.keras.optimizers.Adam(learning_rate = learning_rate), metrics = ['accuracy'])\n",
        "\n",
        "  return model"
      ],
      "execution_count": null,
      "outputs": []
    },
    {
      "cell_type": "code",
      "metadata": {
        "colab": {
          "base_uri": "https://localhost:8080/"
        },
        "id": "CLqTDa83UH5I",
        "outputId": "7f9e6e96-f94a-4a7c-d380-cdeedce90c3f"
      },
      "source": [
        "# A model with 10 input features\n",
        "\n",
        "model = make_net(10)\n",
        "model.summary()"
      ],
      "execution_count": null,
      "outputs": [
        {
          "output_type": "stream",
          "text": [
            "Model: \"sequential\"\n",
            "_________________________________________________________________\n",
            "Layer (type)                 Output Shape              Param #   \n",
            "=================================================================\n",
            "dense (Dense)                (None, 128)               1408      \n",
            "_________________________________________________________________\n",
            "dropout (Dropout)            (None, 128)               0         \n",
            "_________________________________________________________________\n",
            "dense_1 (Dense)              (None, 128)               16512     \n",
            "_________________________________________________________________\n",
            "dropout_1 (Dropout)          (None, 128)               0         \n",
            "_________________________________________________________________\n",
            "dense_2 (Dense)              (None, 128)               16512     \n",
            "_________________________________________________________________\n",
            "dropout_2 (Dropout)          (None, 128)               0         \n",
            "_________________________________________________________________\n",
            "dense_3 (Dense)              (None, 1)                 129       \n",
            "=================================================================\n",
            "Total params: 34,561\n",
            "Trainable params: 34,561\n",
            "Non-trainable params: 0\n",
            "_________________________________________________________________\n"
          ],
          "name": "stdout"
        }
      ]
    },
    {
      "cell_type": "code",
      "metadata": {
        "id": "qwMO2OyWWMwg"
      },
      "source": [
        "# Split data\n",
        "\n",
        "X_train, X_test, y_train, y_test = train_test_split(X, y, test_size = 0.25)\n",
        "\n",
        "# Scale data\n",
        "\n",
        "X_train_scaled, X_test_scaled = scale_data(X_train, X_test)"
      ],
      "execution_count": null,
      "outputs": []
    },
    {
      "cell_type": "code",
      "metadata": {
        "id": "xYtPZk9hXixs"
      },
      "source": [
        "def calculate_accuracy(model, X_train_scaled, X_test_scaled, y_train, y_test):\n",
        "\n",
        "  # Accuracy of training data\n",
        "  proba = model.predict(X_train_scaled)\n",
        "  y_pred_train = proba >= 0.5\n",
        "  y_pred_train = y_pred_train.flatten()\n",
        "  accuracy_train = np.mean(y_pred_train == y_train)\n",
        "\n",
        "  # Accuracy of test data\n",
        "  proba = model.predict(X_test_scaled)\n",
        "  y_pred_test = proba >= 0.5\n",
        "  y_pred_test = y_pred_test.flatten()\n",
        "  accuracy_test = np.mean(y_pred_test == y_test)\n",
        "\n",
        "  print(\"Train set accuracy: {}\".format(round(accuracy_train, 3)))\n",
        "  print(\"Test set accuracy: {}\".format(round(accuracy_test, 3)))"
      ],
      "execution_count": null,
      "outputs": []
    },
    {
      "cell_type": "code",
      "metadata": {
        "id": "EVg7xH1Hisk6"
      },
      "source": [
        "def plot_training(history_dict):\n",
        "  acc_values = history_dict['accuracy']\n",
        "  val_acc_values = history_dict['val_accuracy']\n",
        "  epochs = range(1, len(acc_values) + 1)\n",
        "\n",
        "  plt.plot(epochs, acc_values, 'bo', label = 'Training accuracy')\n",
        "  plt.plot(epochs, val_acc_values, 'b', label = 'Testing accuracy')\n",
        "  plt.title('Training and validation accuracy')\n",
        "  plt.xlabel('Epochs')\n",
        "  plt.ylabel('Accuracy')\n",
        "  plt.legend()\n",
        "\n",
        "  plt.show()"
      ],
      "execution_count": null,
      "outputs": []
    },
    {
      "cell_type": "code",
      "metadata": {
        "id": "TFJ463CXnaCR"
      },
      "source": [
        "# Fit and run the model\n",
        "\n",
        "number_features = X_train_scaled.shape[1]\n",
        "model = make_net(number_features)\n",
        "\n",
        "# Train model and store training data \n",
        "\n",
        "history = model.fit(X_train_scaled, y_train, epochs = 250, batch_size = 64, validation_data = (X_test_scaled, y_test), verbose = 0)"
      ],
      "execution_count": null,
      "outputs": []
    },
    {
      "cell_type": "code",
      "metadata": {
        "colab": {
          "base_uri": "https://localhost:8080/"
        },
        "id": "5d5cksEooTWa",
        "outputId": "d17f2a86-c55d-4009-d787-538db007e78f"
      },
      "source": [
        "calculate_accuracy(model, X_train_scaled, X_test_scaled, y_train, y_test)"
      ],
      "execution_count": null,
      "outputs": [
        {
          "output_type": "stream",
          "text": [
            "Train set accuracy: 0.921\n",
            "Test set accuracy: 0.843\n"
          ],
          "name": "stdout"
        }
      ]
    },
    {
      "cell_type": "code",
      "metadata": {
        "colab": {
          "base_uri": "https://localhost:8080/",
          "height": 295
        },
        "id": "2AoPaEuKt-Gw",
        "outputId": "cb2487bc-8675-41a1-938a-5fec7da5f5de"
      },
      "source": [
        "plot_training(history.history)"
      ],
      "execution_count": null,
      "outputs": [
        {
          "output_type": "display_data",
          "data": {
            "image/png": "[encoded data removed]",
            "text/plain": [
              "<Figure size 432x288 with 1 Axes>"
            ]
          },
          "metadata": {
            "tags": [],
            "needs_background": "light"
          }
        }
      ]
    },
    {
      "cell_type": "code",
      "metadata": {
        "colab": {
          "base_uri": "https://localhost:8080/"
        },
        "id": "rAXq69n2uGtQ",
        "outputId": "038df542-17e5-4270-e888-3d9a9e701f3d"
      },
      "source": [
        "history.history.keys()"
      ],
      "execution_count": null,
      "outputs": [
        {
          "output_type": "execute_result",
          "data": {
            "text/plain": [
              "dict_keys(['loss', 'accuracy', 'val_loss', 'val_accuracy'])"
            ]
          },
          "metadata": {
            "tags": []
          },
          "execution_count": 17
        }
      ]
    },
    {
      "cell_type": "code",
      "metadata": {
        "id": "dgtclrU0yEpk"
      },
      "source": [
        "# Reduce complexity of the model to avoid overfitting\n",
        "\n",
        "model = make_net(X_train_scaled.shape[1], hidden_layers = 1, hidden_layer_neurons = 32)\n",
        "\n",
        "history = model.fit(X_train_scaled, y_train, epochs = 250, batch_size = 64, validation_data = (X_test_scaled, y_test), verbose = 0)"
      ],
      "execution_count": null,
      "outputs": []
    },
    {
      "cell_type": "code",
      "metadata": {
        "colab": {
          "base_uri": "https://localhost:8080/"
        },
        "id": "eHxq_xfd2kPf",
        "outputId": "93757ed4-6e8e-4179-e7ab-5bdb12fe3fe9"
      },
      "source": [
        "calculate_accuracy(model, X_train_scaled, X_test_scaled, y_train, y_test)"
      ],
      "execution_count": null,
      "outputs": [
        {
          "output_type": "stream",
          "text": [
            "Train set accuracy: 0.883\n",
            "Test set accuracy: 0.812\n"
          ],
          "name": "stdout"
        }
      ]
    },
    {
      "cell_type": "code",
      "metadata": {
        "colab": {
          "base_uri": "https://localhost:8080/",
          "height": 295
        },
        "id": "GMVVhFhH26pm",
        "outputId": "311efd78-d7c3-45b8-f974-52df8d66d977"
      },
      "source": [
        "plot_training(history.history)"
      ],
      "execution_count": null,
      "outputs": [
        {
          "output_type": "display_data",
          "data": {
            "image/png": "[encoded data removed]",
            "text/plain": [
              "<Figure size 432x288 with 1 Axes>"
            ]
          },
          "metadata": {
            "tags": [],
            "needs_background": "light"
          }
        }
      ]
    },
    {
      "cell_type": "code",
      "metadata": {
        "id": "xZ4DuAYK2_qc"
      },
      "source": [
        "# Reduce training time to avoid overfitting\n",
        "\n",
        "model = make_net(X_train_scaled.shape[1])\n",
        "\n",
        "history = model.fit(X_train_scaled, y_train, epochs = 25, batch_size = 64, validation_data = (X_test_scaled, y_test), verbose = 0)"
      ],
      "execution_count": null,
      "outputs": []
    },
    {
      "cell_type": "code",
      "metadata": {
        "colab": {
          "base_uri": "https://localhost:8080/"
        },
        "id": "kNgL_yBn4luV",
        "outputId": "aea1bbe1-aec9-4d96-b56e-adba4d6db938"
      },
      "source": [
        "calculate_accuracy(model, X_train_scaled, X_test_scaled, y_train, y_test)"
      ],
      "execution_count": null,
      "outputs": [
        {
          "output_type": "stream",
          "text": [
            "Train set accuracy: 0.877\n",
            "Test set accuracy: 0.812\n"
          ],
          "name": "stdout"
        }
      ]
    },
    {
      "cell_type": "code",
      "metadata": {
        "colab": {
          "base_uri": "https://localhost:8080/",
          "height": 295
        },
        "id": "Jf6o40Qu40Cg",
        "outputId": "2ed3c764-5e42-4287-d25e-b1dbb72e100c"
      },
      "source": [
        "plot_training(history.history)"
      ],
      "execution_count": null,
      "outputs": [
        {
          "output_type": "display_data",
          "data": {
            "image/png": "[encoded data removed]",
            "text/plain": [
              "<Figure size 432x288 with 1 Axes>"
            ]
          },
          "metadata": {
            "tags": [],
            "needs_background": "light"
          }
        }
      ]
    },
    {
      "cell_type": "code",
      "metadata": {
        "id": "KXOkjRhi44Gb"
      },
      "source": [
        "# Add dropout to avoid overfitting\n",
        "\n",
        "model = make_net(X_train_scaled.shape[1], dropuot = 0.5)\n",
        "\n",
        "history = model.fit(X_train_scaled, y_train, epochs = 250, batch_size = 64, validation_data = (X_test_scaled, y_test), verbose = 0)"
      ],
      "execution_count": null,
      "outputs": []
    },
    {
      "cell_type": "code",
      "metadata": {
        "id": "lBAvlzL_6gGw",
        "colab": {
          "base_uri": "https://localhost:8080/"
        },
        "outputId": "c2a9f50a-4f90-4c9e-cef3-e1e7e4264362"
      },
      "source": [
        "calculate_accuracy(model, X_train_scaled, X_test_scaled, y_train, y_test)"
      ],
      "execution_count": 31,
      "outputs": [
        {
          "output_type": "stream",
          "text": [
            "Train set accuracy: 0.892\n",
            "Test set accuracy: 0.803\n"
          ],
          "name": "stdout"
        }
      ]
    },
    {
      "cell_type": "code",
      "metadata": {
        "colab": {
          "base_uri": "https://localhost:8080/",
          "height": 295
        },
        "id": "Et6beHkb7Ztw",
        "outputId": "0187be79-c81b-43a1-be39-817035fdbe43"
      },
      "source": [
        "plot_training(history.history)"
      ],
      "execution_count": 32,
      "outputs": [
        {
          "output_type": "display_data",
          "data": {
            "image/png": "[encoded data removed]",
            "text/plain": [
              "<Figure size 432x288 with 1 Axes>"
            ]
          },
          "metadata": {
            "tags": [],
            "needs_background": "light"
          }
        }
      ]
    },
    {
      "cell_type": "code",
      "metadata": {
        "id": "7ZGTDW8c7cOL"
      },
      "source": [
        "# Checkpoints\n",
        "\n",
        "checkpoint_cb = tf.keras.callbacks.ModelCheckpoint('model_checkpoint.h5', save_best_only = True)\n",
        "\n",
        "# Early stopping callback - stop when no validation improvement for 25 epochs and restore weights to best validation accuracy\n",
        "early_stopping_cb = tf.keras.callbacks.EarlyStopping(patience = 25, restore_best_weights = True)\n",
        "\n",
        "model = make_net(X_train_scaled.shape[1])\n",
        "\n",
        "history = model.fit(X_train_scaled, y_train, epochs = 250, batch_size = 64, validation_data = (X_test_scaled, y_test), verbose = 0, callbacks = [checkpoint_cb, early_stopping_cb])"
      ],
      "execution_count": 33,
      "outputs": []
    },
    {
      "cell_type": "code",
      "metadata": {
        "colab": {
          "base_uri": "https://localhost:8080/"
        },
        "id": "iQe7ynJ6-sB9",
        "outputId": "bd247967-dc2a-4345-b928-00115f89f6e5"
      },
      "source": [
        "calculate_accuracy(model, X_train_scaled, X_test_scaled, y_train, y_test)"
      ],
      "execution_count": 34,
      "outputs": [
        {
          "output_type": "stream",
          "text": [
            "Train set accuracy: 0.852\n",
            "Test set accuracy: 0.776\n"
          ],
          "name": "stdout"
        }
      ]
    },
    {
      "cell_type": "code",
      "metadata": {
        "colab": {
          "base_uri": "https://localhost:8080/",
          "height": 295
        },
        "id": "5qvFUYGlAp7q",
        "outputId": "169e8a6d-da20-408c-b0b5-113c86cc751d"
      },
      "source": [
        "plot_training(history.history)"
      ],
      "execution_count": 35,
      "outputs": [
        {
          "output_type": "display_data",
          "data": {
            "image/png": "[encoded data removed]",
            "text/plain": [
              "<Figure size 432x288 with 1 Axes>"
            ]
          },
          "metadata": {
            "tags": [],
            "needs_background": "light"
          }
        }
      ]
    },
    {
      "cell_type": "code",
      "metadata": {
        "id": "VgOZcqD-Arvm"
      },
      "source": [
        ""
      ],
      "execution_count": null,
      "outputs": []
    }
  ]
}